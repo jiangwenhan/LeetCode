{
 "cells": [
  {
   "cell_type": "code",
   "execution_count": 1,
   "id": "f8349a9b",
   "metadata": {},
   "outputs": [],
   "source": [
    "import math"
   ]
  },
  {
   "cell_type": "code",
   "execution_count": 2,
   "id": "fafe184f",
   "metadata": {},
   "outputs": [],
   "source": [
    "import mmh3"
   ]
  },
  {
   "cell_type": "code",
   "execution_count": 3,
   "id": "10f704df",
   "metadata": {},
   "outputs": [],
   "source": [
    "from bitarray import bitarray"
   ]
  },
  {
   "cell_type": "code",
   "execution_count": 4,
   "id": "b42689e0",
   "metadata": {},
   "outputs": [],
   "source": [
    "class BloomFilter(object):\n",
    "    def __init__(self, items_count, fp_prob):\n",
    "        self.fp_prob = fp_prob\n",
    "        self.size = self.get_size(items_count, fp_prob)\n",
    "        self.hash_count = self.get_hash_count(self.size, items_count)\n",
    "        self.bit_array = bitarray(self.size)\n",
    "        self.bit_array.setall(0)\n",
    "        \n",
    "    def add(self, item):\n",
    "        digests = []\n",
    "        for i in range(self.hash_count):\n",
    "            digest = mmh3.hash(item, i) % self.size\n",
    "            digests.append(digest)\n",
    "            self.bit_array[digest] = True\n",
    "            \n",
    "    def check(self, item):\n",
    "        for i in range(self.hash_count):\n",
    "            digest = mmh3.hash(item, i) % self.size\n",
    "            if self.bit_array[digest] == False:\n",
    "                return False\n",
    "        return True\n",
    "    \n",
    "    @classmethod\n",
    "    def get_size(self, n, p):\n",
    "        m = -(n * math.log(p))/(math.log(2)**2)\n",
    "        return int(m)\n",
    "    \n",
    "    @classmethod\n",
    "    def get_hash_count(self, m, n):\n",
    "        k = (m/n) * math.log(2)\n",
    "        return int(k)"
   ]
  },
  {
   "cell_type": "code",
   "execution_count": 5,
   "id": "e8e39333",
   "metadata": {},
   "outputs": [],
   "source": [
    "from random import shuffle"
   ]
  },
  {
   "cell_type": "code",
   "execution_count": 6,
   "id": "5f8d7c51",
   "metadata": {},
   "outputs": [],
   "source": [
    "n = 20 #no of items to add"
   ]
  },
  {
   "cell_type": "code",
   "execution_count": 7,
   "id": "ebf9ea86",
   "metadata": {},
   "outputs": [],
   "source": [
    "p = 0.05 #false positive probability"
   ]
  },
  {
   "cell_type": "code",
   "execution_count": 8,
   "id": "54840c75",
   "metadata": {},
   "outputs": [],
   "source": [
    "bloomf = BloomFilter(n, p)"
   ]
  },
  {
   "cell_type": "code",
   "execution_count": 9,
   "id": "e5f346d4",
   "metadata": {},
   "outputs": [
    {
     "name": "stdout",
     "output_type": "stream",
     "text": [
      "Size of bit array:124\n"
     ]
    }
   ],
   "source": [
    "print(\"Size of bit array:{}\".format(bloomf.size))"
   ]
  },
  {
   "cell_type": "code",
   "execution_count": 10,
   "id": "241b68d9",
   "metadata": {},
   "outputs": [
    {
     "name": "stdout",
     "output_type": "stream",
     "text": [
      "False positive Probability:0.05\n"
     ]
    }
   ],
   "source": [
    "print(\"False positive Probability:{}\".format(bloomf.fp_prob))"
   ]
  },
  {
   "cell_type": "code",
   "execution_count": 11,
   "id": "642ec539",
   "metadata": {},
   "outputs": [
    {
     "name": "stdout",
     "output_type": "stream",
     "text": [
      "Number of hash functions:4\n"
     ]
    }
   ],
   "source": [
    "print(\"Number of hash functions:{}\".format(bloomf.hash_count))"
   ]
  },
  {
   "cell_type": "code",
   "execution_count": 12,
   "id": "053e7bec",
   "metadata": {},
   "outputs": [],
   "source": [
    "# words to be added\n",
    "word_present = ['abound','abounds','abundance','abundant','accessable',\n",
    "                'bloom','blossom','bolster','bonny','bonus','bonuses',\n",
    "                'coherent','cohesive','colorful','comely','comfort',\n",
    "                'gems','generosity','generous','generously','genial']"
   ]
  },
  {
   "cell_type": "code",
   "execution_count": 13,
   "id": "270f8b51",
   "metadata": {},
   "outputs": [],
   "source": [
    "# word not added\n",
    "word_absent = ['bluff','cheater','hate','war','humanity',\n",
    "               'racism','hurt','nuke','gloomy','facebook',\n",
    "               'geeksforgeeks','twitter']"
   ]
  },
  {
   "cell_type": "code",
   "execution_count": 14,
   "id": "c3ce9b0b",
   "metadata": {},
   "outputs": [],
   "source": [
    "for item in word_present:\n",
    "    bloomf.add(item)"
   ]
  },
  {
   "cell_type": "code",
   "execution_count": 15,
   "id": "eb38601a",
   "metadata": {},
   "outputs": [],
   "source": [
    "shuffle(word_present)"
   ]
  },
  {
   "cell_type": "code",
   "execution_count": 16,
   "id": "5b05efec",
   "metadata": {},
   "outputs": [],
   "source": [
    "shuffle(word_absent)"
   ]
  },
  {
   "cell_type": "code",
   "execution_count": 17,
   "id": "750fefcf",
   "metadata": {},
   "outputs": [],
   "source": [
    "test_words = word_present[:10] + word_absent"
   ]
  },
  {
   "cell_type": "code",
   "execution_count": 18,
   "id": "a82d8071",
   "metadata": {},
   "outputs": [],
   "source": [
    "shuffle(test_words)"
   ]
  },
  {
   "cell_type": "code",
   "execution_count": 19,
   "id": "9af0bae3",
   "metadata": {},
   "outputs": [
    {
     "name": "stdout",
     "output_type": "stream",
     "text": [
      "'humanity' is definitely not present!\n",
      "'hurt' is definitely not present!\n",
      "'bolster' is probably present!\n",
      "'geeksforgeeks' is definitely not present!\n",
      "'bonuses' is probably present!\n",
      "'abound' is probably present!\n",
      "'accessable' is probably present!\n",
      "'cohesive' is probably present!\n",
      "'twitter' is a false positive!\n",
      "'war' is definitely not present!\n",
      "'nuke' is definitely not present!\n",
      "'racism' is definitely not present!\n",
      "'bonus' is probably present!\n",
      "'comely' is probably present!\n",
      "'abundance' is probably present!\n",
      "'bloom' is probably present!\n",
      "'hate' is definitely not present!\n",
      "'genial' is probably present!\n",
      "'bluff' is definitely not present!\n",
      "'facebook' is definitely not present!\n",
      "'cheater' is definitely not present!\n",
      "'gloomy' is definitely not present!\n"
     ]
    }
   ],
   "source": [
    "for word in test_words:\n",
    "    if bloomf.check(word):\n",
    "        if word in word_absent:\n",
    "            print(\"'{}' is a false positive!\".format(word))\n",
    "        else:\n",
    "            print(\"'{}' is probably present!\".format(word))\n",
    "    else:\n",
    "        print(\"'{}' is definitely not present!\".format(word))"
   ]
  },
  {
   "cell_type": "code",
   "execution_count": null,
   "id": "cdbab69c",
   "metadata": {},
   "outputs": [],
   "source": []
  }
 ],
 "metadata": {
  "kernelspec": {
   "display_name": "Python 3",
   "language": "python",
   "name": "python3"
  },
  "language_info": {
   "codemirror_mode": {
    "name": "ipython",
    "version": 3
   },
   "file_extension": ".py",
   "mimetype": "text/x-python",
   "name": "python",
   "nbconvert_exporter": "python",
   "pygments_lexer": "ipython3",
   "version": "3.8.8"
  }
 },
 "nbformat": 4,
 "nbformat_minor": 5
}
